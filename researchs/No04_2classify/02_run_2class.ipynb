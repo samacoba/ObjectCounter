{
 "cells": [
  {
   "cell_type": "code",
   "execution_count": null,
   "metadata": {},
   "outputs": [],
   "source": [
    "#２クラス用メイン関数読み込み\n",
    "%run -i e_action_2c.py"
   ]
  },
  {
   "cell_type": "code",
   "execution_count": null,
   "metadata": {},
   "outputs": [],
   "source": [
    "def get_rand_core_6ch(p_num1 = 100 , p_num2 =100): \n",
    "    x_012 = get_rand_core(N_pic=10, p_num = p_num1 ,ch = 3 )\n",
    "    x_345 = get_rand_core(N_pic=10, p_num = p_num2 ,ch = 3 )\n",
    "    xb_stack = np.concatenate((x_012, x_345), axis=1)\n",
    "    return xb_stack"
   ]
  },
  {
   "cell_type": "code",
   "execution_count": null,
   "metadata": {},
   "outputs": [],
   "source": [
    "#データ読み込み\n",
    "DataA = {'x': load_img('img/nat50_washer50_0.png')}\n",
    "DataB = {'x': get_rand_core_6ch(p_num1 = 60 , p_num2 =60)}\n",
    "Bv = get_bokeh_view(imgs = [DataA['x'][0], DataB['x'][0][0:3], DataB['x'][0][3:6]], plot_w =350, plot_h = 350)"
   ]
  },
  {
   "cell_type": "code",
   "execution_count": null,
   "metadata": {},
   "outputs": [],
   "source": [
    "#モデルをセット\n",
    "run_set_model()\n",
    "#学習開始\n",
    "run_train(N_iteration = 1000)"
   ]
  },
  {
   "cell_type": "code",
   "execution_count": null,
   "metadata": {},
   "outputs": [],
   "source": []
  },
  {
   "cell_type": "code",
   "execution_count": null,
   "metadata": {},
   "outputs": [],
   "source": []
  },
  {
   "cell_type": "code",
   "execution_count": null,
   "metadata": {},
   "outputs": [],
   "source": []
  }
 ],
 "metadata": {
  "anaconda-cloud": {},
  "kernelspec": {
   "display_name": "Python 3",
   "language": "python",
   "name": "python3"
  },
  "language_info": {
   "codemirror_mode": {
    "name": "ipython",
    "version": 3
   },
   "file_extension": ".py",
   "mimetype": "text/x-python",
   "name": "python",
   "nbconvert_exporter": "python",
   "pygments_lexer": "ipython3",
   "version": "3.7.3"
  }
 },
 "nbformat": 4,
 "nbformat_minor": 2
}
